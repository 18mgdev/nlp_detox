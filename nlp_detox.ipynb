{
 "cells": [
  {
   "cell_type": "code",
   "execution_count": null,
   "metadata": {},
   "outputs": [],
   "source": [
    "%pip install -r C:/Users/migue/Documents/GitHub/nlp_detox/requirements.txt --quiet"
   ]
  },
  {
   "cell_type": "code",
   "execution_count": 17,
   "metadata": {},
   "outputs": [
    {
     "name": "stdout",
     "output_type": "stream",
     "text": [
      "Note: you may need to restart the kernel to use updated packages.\n",
      "Note: you may need to restart the kernel to use updated packages.\n",
      "Note: you may need to restart the kernel to use updated packages.\n",
      "Note: you may need to restart the kernel to use updated packages.\n"
     ]
    }
   ],
   "source": [
    "%pip install scikit-learn joblib --quiet\n",
    "%pip install alt-profanity-check --quiet\n",
    "%pip install pandas googletrans==3.1.0a0 --quiet\n",
    "%pip install profanity-check --quiet"
   ]
  },
  {
   "cell_type": "code",
   "execution_count": 1,
   "metadata": {},
   "outputs": [
    {
     "name": "stdout",
     "output_type": "stream",
     "text": [
      "Note: you may need to restart the kernel to use updated packages.\n"
     ]
    }
   ],
   "source": [
    "import pandas as pd\n",
    "\n",
    "splits = {'en': 'data/en-00000-of-00001.parquet', 'ru': 'data/ru-00000-of-00001.parquet', 'uk': 'data/uk-00000-of-00001.parquet', 'de': 'data/de-00000-of-00001.parquet', 'es': 'data/es-00000-of-00001.parquet', 'am': 'data/am-00000-of-00001.parquet', 'zh': 'data/zh-00000-of-00001.parquet', 'ar': 'data/ar-00000-of-00001.parquet', 'hi': 'data/hi-00000-of-00001.parquet'}\n",
    "df = pd.read_parquet(\"hf://datasets/textdetox/multilingual_paradetox/\" + splits[\"en\"])"
   ]
  },
  {
   "cell_type": "code",
   "execution_count": 4,
   "metadata": {},
   "outputs": [
    {
     "data": {
      "text/html": [
       "<div>\n",
       "<style scoped>\n",
       "    .dataframe tbody tr th:only-of-type {\n",
       "        vertical-align: middle;\n",
       "    }\n",
       "\n",
       "    .dataframe tbody tr th {\n",
       "        vertical-align: top;\n",
       "    }\n",
       "\n",
       "    .dataframe thead th {\n",
       "        text-align: right;\n",
       "    }\n",
       "</style>\n",
       "<table border=\"1\" class=\"dataframe\">\n",
       "  <thead>\n",
       "    <tr style=\"text-align: right;\">\n",
       "      <th></th>\n",
       "      <th>toxic_sentence</th>\n",
       "      <th>neutral_sentence</th>\n",
       "    </tr>\n",
       "  </thead>\n",
       "  <tbody>\n",
       "    <tr>\n",
       "      <th>127</th>\n",
       "      <td>sit on your ass at home and don t vote at your...</td>\n",
       "      <td>Relax at home and do not vote at your own risk</td>\n",
       "    </tr>\n",
       "    <tr>\n",
       "      <th>227</th>\n",
       "      <td>maybe now no one will be rammed in the ass .</td>\n",
       "      <td>maybe now no one will be treated badly</td>\n",
       "    </tr>\n",
       "    <tr>\n",
       "      <th>174</th>\n",
       "      <td>that scum is smiling in court !</td>\n",
       "      <td>That bad person is smiling in court</td>\n",
       "    </tr>\n",
       "    <tr>\n",
       "      <th>224</th>\n",
       "      <td>Shut your mouth and stop talking. good boy</td>\n",
       "      <td>Can you please stop talking? Thanks.</td>\n",
       "    </tr>\n",
       "    <tr>\n",
       "      <th>192</th>\n",
       "      <td>you bunch of asshats pushing your agenda inste...</td>\n",
       "      <td>You are all just pushing on your agenda instea...</td>\n",
       "    </tr>\n",
       "  </tbody>\n",
       "</table>\n",
       "</div>"
      ],
      "text/plain": [
       "                                        toxic_sentence  \\\n",
       "127  sit on your ass at home and don t vote at your...   \n",
       "227       maybe now no one will be rammed in the ass .   \n",
       "174                    that scum is smiling in court !   \n",
       "224         Shut your mouth and stop talking. good boy   \n",
       "192  you bunch of asshats pushing your agenda inste...   \n",
       "\n",
       "                                      neutral_sentence  \n",
       "127     Relax at home and do not vote at your own risk  \n",
       "227             maybe now no one will be treated badly  \n",
       "174                That bad person is smiling in court  \n",
       "224               Can you please stop talking? Thanks.  \n",
       "192  You are all just pushing on your agenda instea...  "
      ]
     },
     "execution_count": 4,
     "metadata": {},
     "output_type": "execute_result"
    }
   ],
   "source": [
    "df.sample(5)"
   ]
  },
  {
   "cell_type": "code",
   "execution_count": 19,
   "metadata": {},
   "outputs": [
    {
     "name": "stdout",
     "output_type": "stream",
     "text": [
      "¡Esa escoria está sonriendo en la corte! -> Esa mala persona está sonriendo en la corte.\n",
      "[1] [0]\n",
      "[0.53088215] [0.0325701]\n"
     ]
    }
   ],
   "source": [
    "from googletrans import Translator\n",
    "\n",
    "translator = Translator()\n",
    "index = 174\n",
    "print(translator.translate(df['toxic_sentence'][index], dest=\"es\").text+\" -> \" +translator.translate(df['neutral_sentence'][index], dest=\"es\").text)\n",
    "\n",
    "from profanity_check import predict, predict_prob\n",
    "\n",
    "print(predict([df['toxic_sentence'][index]]), predict([df['neutral_sentence'][index]]))\n",
    "print(predict_prob([df['toxic_sentence'][index]]), predict_prob([df['neutral_sentence'][index]]))"
   ]
  },
  {
   "cell_type": "code",
   "execution_count": null,
   "metadata": {},
   "outputs": [],
   "source": [
    "\n",
    "\n"
   ]
  }
 ],
 "metadata": {
  "kernelspec": {
   "display_name": "Python 3 (ipykernel)",
   "language": "python",
   "name": "python3"
  },
  "language_info": {
   "codemirror_mode": {
    "name": "ipython",
    "version": 3
   },
   "file_extension": ".py",
   "mimetype": "text/x-python",
   "name": "python",
   "nbconvert_exporter": "python",
   "pygments_lexer": "ipython3",
   "version": "3.10.14"
  }
 },
 "nbformat": 4,
 "nbformat_minor": 2
}
