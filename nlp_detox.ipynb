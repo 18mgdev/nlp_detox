{
  "cells": [
    {
      "cell_type": "markdown",
      "metadata": {
        "id": "tcsHcG5FEBXp"
      },
      "source": [
        "# DETOXIFICATION"
      ]
    },
    {
      "cell_type": "code",
      "execution_count": 1,
      "metadata": {
        "colab": {
          "base_uri": "https://localhost:8080/"
        },
        "id": "A8eWCzy3EBXs",
        "outputId": "150ea4c2-297b-4633-cf6e-7c8b4aa59c31"
      },
      "outputs": [
        {
          "output_type": "stream",
          "name": "stdout",
          "text": [
            "  Preparing metadata (setup.py) ... \u001b[?25l\u001b[?25hdone\n",
            "\u001b[2K   \u001b[90m━━━━━━━━━━━━━━━━━━━━━━━━━━━━━━━━━━━━━━━━\u001b[0m \u001b[32m55.1/55.1 kB\u001b[0m \u001b[31m2.8 MB/s\u001b[0m eta \u001b[36m0:00:00\u001b[0m\n",
            "\u001b[2K   \u001b[90m━━━━━━━━━━━━━━━━━━━━━━━━━━━━━━━━━━━━━━━━\u001b[0m \u001b[32m133.4/133.4 kB\u001b[0m \u001b[31m7.9 MB/s\u001b[0m eta \u001b[36m0:00:00\u001b[0m\n",
            "\u001b[2K   \u001b[90m━━━━━━━━━━━━━━━━━━━━━━━━━━━━━━━━━━━━━━━━\u001b[0m \u001b[32m42.6/42.6 kB\u001b[0m \u001b[31m2.4 MB/s\u001b[0m eta \u001b[36m0:00:00\u001b[0m\n",
            "\u001b[2K   \u001b[90m━━━━━━━━━━━━━━━━━━━━━━━━━━━━━━━━━━━━━━━━\u001b[0m \u001b[32m58.8/58.8 kB\u001b[0m \u001b[31m3.8 MB/s\u001b[0m eta \u001b[36m0:00:00\u001b[0m\n",
            "\u001b[2K   \u001b[90m━━━━━━━━━━━━━━━━━━━━━━━━━━━━━━━━━━━━━━━━\u001b[0m \u001b[32m65.0/65.0 kB\u001b[0m \u001b[31m5.3 MB/s\u001b[0m eta \u001b[36m0:00:00\u001b[0m\n",
            "\u001b[2K   \u001b[90m━━━━━━━━━━━━━━━━━━━━━━━━━━━━━━━━━━━━━━━━\u001b[0m \u001b[32m1.2/1.2 MB\u001b[0m \u001b[31m37.3 MB/s\u001b[0m eta \u001b[36m0:00:00\u001b[0m\n",
            "\u001b[2K   \u001b[90m━━━━━━━━━━━━━━━━━━━━━━━━━━━━━━━━━━━━━━━━\u001b[0m \u001b[32m53.6/53.6 kB\u001b[0m \u001b[31m2.6 MB/s\u001b[0m eta \u001b[36m0:00:00\u001b[0m\n",
            "\u001b[?25h  Building wheel for googletrans (setup.py) ... \u001b[?25l\u001b[?25hdone\n",
            "\u001b[31mERROR: pip's dependency resolver does not currently take into account all the packages that are installed. This behaviour is the source of the following dependency conflicts.\n",
            "langsmith 0.1.143 requires httpx<1,>=0.23.0, but you have httpx 0.13.3 which is incompatible.\n",
            "openai 1.54.4 requires httpx<1,>=0.23.0, but you have httpx 0.13.3 which is incompatible.\u001b[0m\u001b[31m\n",
            "\u001b[2K   \u001b[90m━━━━━━━━━━━━━━━━━━━━━━━━━━━━━━━━━━━━━━━━\u001b[0m \u001b[32m1.7/1.7 MB\u001b[0m \u001b[31m22.6 MB/s\u001b[0m eta \u001b[36m0:00:00\u001b[0m\n",
            "\u001b[2K   \u001b[90m━━━━━━━━━━━━━━━━━━━━━━━━━━━━━━━━━━━━━━━━\u001b[0m \u001b[32m2.4/2.4 MB\u001b[0m \u001b[31m36.9 MB/s\u001b[0m eta \u001b[36m0:00:00\u001b[0m\n",
            "\u001b[?25hRequirement already satisfied: sentencepiece in /usr/local/lib/python3.10/dist-packages (0.2.0)\n"
          ]
        }
      ],
      "source": [
        "%pip install -q torch\n",
        "%pip install -q transformers[torch]\n",
        "%pip install -q googletrans==3.1.0a0\n",
        "%pip install -q fastparquet\n",
        "%pip install sentencepiece"
      ]
    },
    {
      "cell_type": "code",
      "execution_count": 1,
      "metadata": {
        "colab": {
          "base_uri": "https://localhost:8080/",
          "height": 35
        },
        "id": "elLcS2FXEBXu",
        "outputId": "a63e94f9-0293-47f9-f738-68568a0f569d"
      },
      "outputs": [
        {
          "output_type": "execute_result",
          "data": {
            "text/plain": [
              "'cuda'"
            ],
            "application/vnd.google.colaboratory.intrinsic+json": {
              "type": "string"
            }
          },
          "metadata": {},
          "execution_count": 1
        }
      ],
      "source": [
        "import pandas as pd\n",
        "import torch\n",
        "from sklearn.model_selection import train_test_split\n",
        "from googletrans import Translator\n",
        "from transformers import Trainer, TrainingArguments, T5Tokenizer, T5ForConditionalGeneration, Seq2SeqTrainer, Seq2SeqTrainingArguments\n",
        "\n",
        "device = \"cuda\" if torch.cuda.is_available() else \"cpu\"\n",
        "device"
      ]
    },
    {
      "cell_type": "markdown",
      "metadata": {
        "id": "bs4g2g2aEBXv"
      },
      "source": [
        "## Lectura de datos\n",
        "\n",
        "Vamos a leer el dataset de entrenamiento. Este dataset esta formado por 400 frases tóxicas por idioma en 9 idiomas diferentes y sus versiones no tóxicas. Formaremos un dataset conjunto que contenga para cada frase, su idioma de origen, la frase tóxica y la frase de-toxificada."
      ]
    },
    {
      "cell_type": "code",
      "execution_count": null,
      "metadata": {
        "id": "LrpuB4PREBXw"
      },
      "outputs": [],
      "source": [
        "splits = {'en': 'data/en-00000-of-00001.parquet', 'ru': 'data/ru-00000-of-00001.parquet', 'uk': 'data/uk-00000-of-00001.parquet', 'de': 'data/de-00000-of-00001.parquet', 'es': 'data/es-00000-of-00001.parquet', 'am': 'data/am-00000-of-00001.parquet', 'zh': 'data/zh-00000-of-00001.parquet', 'ar': 'data/ar-00000-of-00001.parquet', 'hi': 'data/hi-00000-of-00001.parquet'}\n",
        "df_en = pd.read_parquet(\"hf://datasets/textdetox/multilingual_paradetox/\" + splits[\"en\"])\n",
        "df_uk = pd.read_parquet(\"hf://datasets/textdetox/multilingual_paradetox/\" + splits[\"uk\"])\n",
        "df_ru = pd.read_parquet(\"hf://datasets/textdetox/multilingual_paradetox/\" + splits[\"ru\"])\n",
        "df_de = pd.read_parquet(\"hf://datasets/textdetox/multilingual_paradetox/\" + splits[\"de\"])\n",
        "df_es = pd.read_parquet(\"hf://datasets/textdetox/multilingual_paradetox/\" + splits[\"es\"])\n",
        "df_am = pd.read_parquet(\"hf://datasets/textdetox/multilingual_paradetox/\" + splits[\"am\"])\n",
        "df_zh = pd.read_parquet(\"hf://datasets/textdetox/multilingual_paradetox/\" + splits[\"zh\"])\n",
        "df_ar = pd.read_parquet(\"hf://datasets/textdetox/multilingual_paradetox/\" + splits[\"ar\"])\n",
        "df_hi = pd.read_parquet(\"hf://datasets/textdetox/multilingual_paradetox/\" + splits[\"hi\"])\n",
        "\n",
        "df_hf = pd.concat([df_en, df_uk, df_ru, df_de, df_es, df_am, df_zh, df_ar, df_hi], keys=['en','uk', 'ru', 'de', 'es', 'am', 'zh-cn', 'ar', 'hi']).reset_index(level=[0])\n",
        "df_hf.sample(3)"
      ]
    },
    {
      "cell_type": "markdown",
      "metadata": {
        "id": "6LlV1smHrZCR"
      },
      "source": [
        "El siguiente dataset es de github, contiene 500 ejemplos en inglés (de momento lo uso de test, hasta que se implemente la traduccion con el de arriba)"
      ]
    },
    {
      "cell_type": "code",
      "execution_count": 2,
      "metadata": {
        "colab": {
          "base_uri": "https://localhost:8080/",
          "height": 143
        },
        "id": "w-QrT-NerZCR",
        "outputId": "d9d01901-9779-427a-e5bb-5f24dbef2649"
      },
      "outputs": [
        {
          "output_type": "execute_result",
          "data": {
            "text/plain": [
              "       ID                                     toxic_sentence  \\\n",
              "62   1212           if you want to get fucked , try grindr .   \n",
              "267   941  i 'm so fucking sick of reddit assuming people...   \n",
              "230  2720                      you lost bitches , now stfu .   \n",
              "\n",
              "                                      neutral_sentence  \n",
              "62                      If you want a date ,try grindr  \n",
              "267  I'm annoyed that Reddit is assuming people wit...  \n",
              "230                  you lost, admit it and calm down.  "
            ],
            "text/html": [
              "\n",
              "  <div id=\"df-7bb872c5-d2c5-4f48-966b-313ac4dc538c\" class=\"colab-df-container\">\n",
              "    <div>\n",
              "<style scoped>\n",
              "    .dataframe tbody tr th:only-of-type {\n",
              "        vertical-align: middle;\n",
              "    }\n",
              "\n",
              "    .dataframe tbody tr th {\n",
              "        vertical-align: top;\n",
              "    }\n",
              "\n",
              "    .dataframe thead th {\n",
              "        text-align: right;\n",
              "    }\n",
              "</style>\n",
              "<table border=\"1\" class=\"dataframe\">\n",
              "  <thead>\n",
              "    <tr style=\"text-align: right;\">\n",
              "      <th></th>\n",
              "      <th>ID</th>\n",
              "      <th>toxic_sentence</th>\n",
              "      <th>neutral_sentence</th>\n",
              "    </tr>\n",
              "  </thead>\n",
              "  <tbody>\n",
              "    <tr>\n",
              "      <th>62</th>\n",
              "      <td>1212</td>\n",
              "      <td>if you want to get fucked , try grindr .</td>\n",
              "      <td>If you want a date ,try grindr</td>\n",
              "    </tr>\n",
              "    <tr>\n",
              "      <th>267</th>\n",
              "      <td>941</td>\n",
              "      <td>i 'm so fucking sick of reddit assuming people...</td>\n",
              "      <td>I'm annoyed that Reddit is assuming people wit...</td>\n",
              "    </tr>\n",
              "    <tr>\n",
              "      <th>230</th>\n",
              "      <td>2720</td>\n",
              "      <td>you lost bitches , now stfu .</td>\n",
              "      <td>you lost, admit it and calm down.</td>\n",
              "    </tr>\n",
              "  </tbody>\n",
              "</table>\n",
              "</div>\n",
              "    <div class=\"colab-df-buttons\">\n",
              "\n",
              "  <div class=\"colab-df-container\">\n",
              "    <button class=\"colab-df-convert\" onclick=\"convertToInteractive('df-7bb872c5-d2c5-4f48-966b-313ac4dc538c')\"\n",
              "            title=\"Convert this dataframe to an interactive table.\"\n",
              "            style=\"display:none;\">\n",
              "\n",
              "  <svg xmlns=\"http://www.w3.org/2000/svg\" height=\"24px\" viewBox=\"0 -960 960 960\">\n",
              "    <path d=\"M120-120v-720h720v720H120Zm60-500h600v-160H180v160Zm220 220h160v-160H400v160Zm0 220h160v-160H400v160ZM180-400h160v-160H180v160Zm440 0h160v-160H620v160ZM180-180h160v-160H180v160Zm440 0h160v-160H620v160Z\"/>\n",
              "  </svg>\n",
              "    </button>\n",
              "\n",
              "  <style>\n",
              "    .colab-df-container {\n",
              "      display:flex;\n",
              "      gap: 12px;\n",
              "    }\n",
              "\n",
              "    .colab-df-convert {\n",
              "      background-color: #E8F0FE;\n",
              "      border: none;\n",
              "      border-radius: 50%;\n",
              "      cursor: pointer;\n",
              "      display: none;\n",
              "      fill: #1967D2;\n",
              "      height: 32px;\n",
              "      padding: 0 0 0 0;\n",
              "      width: 32px;\n",
              "    }\n",
              "\n",
              "    .colab-df-convert:hover {\n",
              "      background-color: #E2EBFA;\n",
              "      box-shadow: 0px 1px 2px rgba(60, 64, 67, 0.3), 0px 1px 3px 1px rgba(60, 64, 67, 0.15);\n",
              "      fill: #174EA6;\n",
              "    }\n",
              "\n",
              "    .colab-df-buttons div {\n",
              "      margin-bottom: 4px;\n",
              "    }\n",
              "\n",
              "    [theme=dark] .colab-df-convert {\n",
              "      background-color: #3B4455;\n",
              "      fill: #D2E3FC;\n",
              "    }\n",
              "\n",
              "    [theme=dark] .colab-df-convert:hover {\n",
              "      background-color: #434B5C;\n",
              "      box-shadow: 0px 1px 3px 1px rgba(0, 0, 0, 0.15);\n",
              "      filter: drop-shadow(0px 1px 2px rgba(0, 0, 0, 0.3));\n",
              "      fill: #FFFFFF;\n",
              "    }\n",
              "  </style>\n",
              "\n",
              "    <script>\n",
              "      const buttonEl =\n",
              "        document.querySelector('#df-7bb872c5-d2c5-4f48-966b-313ac4dc538c button.colab-df-convert');\n",
              "      buttonEl.style.display =\n",
              "        google.colab.kernel.accessAllowed ? 'block' : 'none';\n",
              "\n",
              "      async function convertToInteractive(key) {\n",
              "        const element = document.querySelector('#df-7bb872c5-d2c5-4f48-966b-313ac4dc538c');\n",
              "        const dataTable =\n",
              "          await google.colab.kernel.invokeFunction('convertToInteractive',\n",
              "                                                    [key], {});\n",
              "        if (!dataTable) return;\n",
              "\n",
              "        const docLinkHtml = 'Like what you see? Visit the ' +\n",
              "          '<a target=\"_blank\" href=https://colab.research.google.com/notebooks/data_table.ipynb>data table notebook</a>'\n",
              "          + ' to learn more about interactive tables.';\n",
              "        element.innerHTML = '';\n",
              "        dataTable['output_type'] = 'display_data';\n",
              "        await google.colab.output.renderOutput(dataTable, element);\n",
              "        const docLink = document.createElement('div');\n",
              "        docLink.innerHTML = docLinkHtml;\n",
              "        element.appendChild(docLink);\n",
              "      }\n",
              "    </script>\n",
              "  </div>\n",
              "\n",
              "\n",
              "<div id=\"df-9bc35cf0-1e15-4e63-815f-1ed162d0a572\">\n",
              "  <button class=\"colab-df-quickchart\" onclick=\"quickchart('df-9bc35cf0-1e15-4e63-815f-1ed162d0a572')\"\n",
              "            title=\"Suggest charts\"\n",
              "            style=\"display:none;\">\n",
              "\n",
              "<svg xmlns=\"http://www.w3.org/2000/svg\" height=\"24px\"viewBox=\"0 0 24 24\"\n",
              "     width=\"24px\">\n",
              "    <g>\n",
              "        <path d=\"M19 3H5c-1.1 0-2 .9-2 2v14c0 1.1.9 2 2 2h14c1.1 0 2-.9 2-2V5c0-1.1-.9-2-2-2zM9 17H7v-7h2v7zm4 0h-2V7h2v10zm4 0h-2v-4h2v4z\"/>\n",
              "    </g>\n",
              "</svg>\n",
              "  </button>\n",
              "\n",
              "<style>\n",
              "  .colab-df-quickchart {\n",
              "      --bg-color: #E8F0FE;\n",
              "      --fill-color: #1967D2;\n",
              "      --hover-bg-color: #E2EBFA;\n",
              "      --hover-fill-color: #174EA6;\n",
              "      --disabled-fill-color: #AAA;\n",
              "      --disabled-bg-color: #DDD;\n",
              "  }\n",
              "\n",
              "  [theme=dark] .colab-df-quickchart {\n",
              "      --bg-color: #3B4455;\n",
              "      --fill-color: #D2E3FC;\n",
              "      --hover-bg-color: #434B5C;\n",
              "      --hover-fill-color: #FFFFFF;\n",
              "      --disabled-bg-color: #3B4455;\n",
              "      --disabled-fill-color: #666;\n",
              "  }\n",
              "\n",
              "  .colab-df-quickchart {\n",
              "    background-color: var(--bg-color);\n",
              "    border: none;\n",
              "    border-radius: 50%;\n",
              "    cursor: pointer;\n",
              "    display: none;\n",
              "    fill: var(--fill-color);\n",
              "    height: 32px;\n",
              "    padding: 0;\n",
              "    width: 32px;\n",
              "  }\n",
              "\n",
              "  .colab-df-quickchart:hover {\n",
              "    background-color: var(--hover-bg-color);\n",
              "    box-shadow: 0 1px 2px rgba(60, 64, 67, 0.3), 0 1px 3px 1px rgba(60, 64, 67, 0.15);\n",
              "    fill: var(--button-hover-fill-color);\n",
              "  }\n",
              "\n",
              "  .colab-df-quickchart-complete:disabled,\n",
              "  .colab-df-quickchart-complete:disabled:hover {\n",
              "    background-color: var(--disabled-bg-color);\n",
              "    fill: var(--disabled-fill-color);\n",
              "    box-shadow: none;\n",
              "  }\n",
              "\n",
              "  .colab-df-spinner {\n",
              "    border: 2px solid var(--fill-color);\n",
              "    border-color: transparent;\n",
              "    border-bottom-color: var(--fill-color);\n",
              "    animation:\n",
              "      spin 1s steps(1) infinite;\n",
              "  }\n",
              "\n",
              "  @keyframes spin {\n",
              "    0% {\n",
              "      border-color: transparent;\n",
              "      border-bottom-color: var(--fill-color);\n",
              "      border-left-color: var(--fill-color);\n",
              "    }\n",
              "    20% {\n",
              "      border-color: transparent;\n",
              "      border-left-color: var(--fill-color);\n",
              "      border-top-color: var(--fill-color);\n",
              "    }\n",
              "    30% {\n",
              "      border-color: transparent;\n",
              "      border-left-color: var(--fill-color);\n",
              "      border-top-color: var(--fill-color);\n",
              "      border-right-color: var(--fill-color);\n",
              "    }\n",
              "    40% {\n",
              "      border-color: transparent;\n",
              "      border-right-color: var(--fill-color);\n",
              "      border-top-color: var(--fill-color);\n",
              "    }\n",
              "    60% {\n",
              "      border-color: transparent;\n",
              "      border-right-color: var(--fill-color);\n",
              "    }\n",
              "    80% {\n",
              "      border-color: transparent;\n",
              "      border-right-color: var(--fill-color);\n",
              "      border-bottom-color: var(--fill-color);\n",
              "    }\n",
              "    90% {\n",
              "      border-color: transparent;\n",
              "      border-bottom-color: var(--fill-color);\n",
              "    }\n",
              "  }\n",
              "</style>\n",
              "\n",
              "  <script>\n",
              "    async function quickchart(key) {\n",
              "      const quickchartButtonEl =\n",
              "        document.querySelector('#' + key + ' button');\n",
              "      quickchartButtonEl.disabled = true;  // To prevent multiple clicks.\n",
              "      quickchartButtonEl.classList.add('colab-df-spinner');\n",
              "      try {\n",
              "        const charts = await google.colab.kernel.invokeFunction(\n",
              "            'suggestCharts', [key], {});\n",
              "      } catch (error) {\n",
              "        console.error('Error during call to suggestCharts:', error);\n",
              "      }\n",
              "      quickchartButtonEl.classList.remove('colab-df-spinner');\n",
              "      quickchartButtonEl.classList.add('colab-df-quickchart-complete');\n",
              "    }\n",
              "    (() => {\n",
              "      let quickchartButtonEl =\n",
              "        document.querySelector('#df-9bc35cf0-1e15-4e63-815f-1ed162d0a572 button');\n",
              "      quickchartButtonEl.style.display =\n",
              "        google.colab.kernel.accessAllowed ? 'block' : 'none';\n",
              "    })();\n",
              "  </script>\n",
              "</div>\n",
              "\n",
              "    </div>\n",
              "  </div>\n"
            ],
            "application/vnd.google.colaboratory.intrinsic+json": {
              "type": "dataframe",
              "summary": "{\n  \"name\": \"df_gh\",\n  \"rows\": 3,\n  \"fields\": [\n    {\n      \"column\": \"ID\",\n      \"properties\": {\n        \"dtype\": \"number\",\n        \"std\": 958,\n        \"min\": 941,\n        \"max\": 2720,\n        \"num_unique_values\": 3,\n        \"samples\": [\n          1212,\n          941,\n          2720\n        ],\n        \"semantic_type\": \"\",\n        \"description\": \"\"\n      }\n    },\n    {\n      \"column\": \"toxic_sentence\",\n      \"properties\": {\n        \"dtype\": \"string\",\n        \"num_unique_values\": 3,\n        \"samples\": [\n          \"if you want to get fucked , try grindr .\",\n          \"i 'm so fucking sick of reddit assuming people with a dissenting opinion are being paid by someone else .\",\n          \"you lost bitches , now stfu .\"\n        ],\n        \"semantic_type\": \"\",\n        \"description\": \"\"\n      }\n    },\n    {\n      \"column\": \"neutral_sentence\",\n      \"properties\": {\n        \"dtype\": \"string\",\n        \"num_unique_values\": 3,\n        \"samples\": [\n          \"If you want a date ,try grindr\",\n          \"I'm annoyed that Reddit is assuming people with dissenting opinions are being paid\",\n          \"you lost, admit it and calm down.\"\n        ],\n        \"semantic_type\": \"\",\n        \"description\": \"\"\n      }\n    }\n  ]\n}"
            }
          },
          "metadata": {},
          "execution_count": 2
        }
      ],
      "source": [
        "df_gh = pd.read_csv(\"https://raw.githubusercontent.com/panlingua/multilingual_text_detoxification_datasets/refs/heads/main/refined-english/en_parallel_detoxification.test.csv\")\n",
        "df_gh.rename(columns={\"toxic_comment\":\"toxic_sentence\", \"civil_comment\":\"neutral_sentence\"}, inplace=True)\n",
        "df_gh.sample(3)"
      ]
    },
    {
      "cell_type": "markdown",
      "metadata": {
        "id": "qtVDCM1MrZCS"
      },
      "source": [
        "dataset que nos da la tarea"
      ]
    },
    {
      "cell_type": "code",
      "execution_count": 3,
      "metadata": {
        "colab": {
          "base_uri": "https://localhost:8080/",
          "height": 248
        },
        "id": "KZMHRQx1rZCS",
        "outputId": "ebfcea74-c6a9-4cdf-d6ea-7df4f76ae287"
      },
      "outputs": [
        {
          "output_type": "stream",
          "name": "stderr",
          "text": [
            "/usr/local/lib/python3.10/dist-packages/huggingface_hub/utils/_auth.py:94: UserWarning: \n",
            "The secret `HF_TOKEN` does not exist in your Colab secrets.\n",
            "To authenticate with the Hugging Face Hub, create a token in your settings tab (https://huggingface.co/settings/tokens), set it as secret in your Google Colab and restart your session.\n",
            "You will be able to reuse this secret in all of your notebooks.\n",
            "Please note that authentication is recommended but still optional to access public models or datasets.\n",
            "  warnings.warn(\n"
          ]
        },
        {
          "output_type": "execute_result",
          "data": {
            "text/plain": [
              "                                          toxic_sentence  \\\n",
              "3962   her hair is always in her way and she 's just ...   \n",
              "11273  now that the shit is hitting the fan someone h...   \n",
              "3633      hard to believe someone can be that ignorant .   \n",
              "\n",
              "                                        neutral_sentence  \n",
              "3962   her hair is always in her way and she's insuff...  \n",
              "11273  Now that the issue is hitting the fan someone ...  \n",
              "3633   It is hard to believe that someone can be that...  "
            ],
            "text/html": [
              "\n",
              "  <div id=\"df-42d12b97-67d0-4dbd-88ad-427975d768d6\" class=\"colab-df-container\">\n",
              "    <div>\n",
              "<style scoped>\n",
              "    .dataframe tbody tr th:only-of-type {\n",
              "        vertical-align: middle;\n",
              "    }\n",
              "\n",
              "    .dataframe tbody tr th {\n",
              "        vertical-align: top;\n",
              "    }\n",
              "\n",
              "    .dataframe thead th {\n",
              "        text-align: right;\n",
              "    }\n",
              "</style>\n",
              "<table border=\"1\" class=\"dataframe\">\n",
              "  <thead>\n",
              "    <tr style=\"text-align: right;\">\n",
              "      <th></th>\n",
              "      <th>toxic_sentence</th>\n",
              "      <th>neutral_sentence</th>\n",
              "    </tr>\n",
              "  </thead>\n",
              "  <tbody>\n",
              "    <tr>\n",
              "      <th>3962</th>\n",
              "      <td>her hair is always in her way and she 's just ...</td>\n",
              "      <td>her hair is always in her way and she's insuff...</td>\n",
              "    </tr>\n",
              "    <tr>\n",
              "      <th>11273</th>\n",
              "      <td>now that the shit is hitting the fan someone h...</td>\n",
              "      <td>Now that the issue is hitting the fan someone ...</td>\n",
              "    </tr>\n",
              "    <tr>\n",
              "      <th>3633</th>\n",
              "      <td>hard to believe someone can be that ignorant .</td>\n",
              "      <td>It is hard to believe that someone can be that...</td>\n",
              "    </tr>\n",
              "  </tbody>\n",
              "</table>\n",
              "</div>\n",
              "    <div class=\"colab-df-buttons\">\n",
              "\n",
              "  <div class=\"colab-df-container\">\n",
              "    <button class=\"colab-df-convert\" onclick=\"convertToInteractive('df-42d12b97-67d0-4dbd-88ad-427975d768d6')\"\n",
              "            title=\"Convert this dataframe to an interactive table.\"\n",
              "            style=\"display:none;\">\n",
              "\n",
              "  <svg xmlns=\"http://www.w3.org/2000/svg\" height=\"24px\" viewBox=\"0 -960 960 960\">\n",
              "    <path d=\"M120-120v-720h720v720H120Zm60-500h600v-160H180v160Zm220 220h160v-160H400v160Zm0 220h160v-160H400v160ZM180-400h160v-160H180v160Zm440 0h160v-160H620v160ZM180-180h160v-160H180v160Zm440 0h160v-160H620v160Z\"/>\n",
              "  </svg>\n",
              "    </button>\n",
              "\n",
              "  <style>\n",
              "    .colab-df-container {\n",
              "      display:flex;\n",
              "      gap: 12px;\n",
              "    }\n",
              "\n",
              "    .colab-df-convert {\n",
              "      background-color: #E8F0FE;\n",
              "      border: none;\n",
              "      border-radius: 50%;\n",
              "      cursor: pointer;\n",
              "      display: none;\n",
              "      fill: #1967D2;\n",
              "      height: 32px;\n",
              "      padding: 0 0 0 0;\n",
              "      width: 32px;\n",
              "    }\n",
              "\n",
              "    .colab-df-convert:hover {\n",
              "      background-color: #E2EBFA;\n",
              "      box-shadow: 0px 1px 2px rgba(60, 64, 67, 0.3), 0px 1px 3px 1px rgba(60, 64, 67, 0.15);\n",
              "      fill: #174EA6;\n",
              "    }\n",
              "\n",
              "    .colab-df-buttons div {\n",
              "      margin-bottom: 4px;\n",
              "    }\n",
              "\n",
              "    [theme=dark] .colab-df-convert {\n",
              "      background-color: #3B4455;\n",
              "      fill: #D2E3FC;\n",
              "    }\n",
              "\n",
              "    [theme=dark] .colab-df-convert:hover {\n",
              "      background-color: #434B5C;\n",
              "      box-shadow: 0px 1px 3px 1px rgba(0, 0, 0, 0.15);\n",
              "      filter: drop-shadow(0px 1px 2px rgba(0, 0, 0, 0.3));\n",
              "      fill: #FFFFFF;\n",
              "    }\n",
              "  </style>\n",
              "\n",
              "    <script>\n",
              "      const buttonEl =\n",
              "        document.querySelector('#df-42d12b97-67d0-4dbd-88ad-427975d768d6 button.colab-df-convert');\n",
              "      buttonEl.style.display =\n",
              "        google.colab.kernel.accessAllowed ? 'block' : 'none';\n",
              "\n",
              "      async function convertToInteractive(key) {\n",
              "        const element = document.querySelector('#df-42d12b97-67d0-4dbd-88ad-427975d768d6');\n",
              "        const dataTable =\n",
              "          await google.colab.kernel.invokeFunction('convertToInteractive',\n",
              "                                                    [key], {});\n",
              "        if (!dataTable) return;\n",
              "\n",
              "        const docLinkHtml = 'Like what you see? Visit the ' +\n",
              "          '<a target=\"_blank\" href=https://colab.research.google.com/notebooks/data_table.ipynb>data table notebook</a>'\n",
              "          + ' to learn more about interactive tables.';\n",
              "        element.innerHTML = '';\n",
              "        dataTable['output_type'] = 'display_data';\n",
              "        await google.colab.output.renderOutput(dataTable, element);\n",
              "        const docLink = document.createElement('div');\n",
              "        docLink.innerHTML = docLinkHtml;\n",
              "        element.appendChild(docLink);\n",
              "      }\n",
              "    </script>\n",
              "  </div>\n",
              "\n",
              "\n",
              "<div id=\"df-1f4246dd-5fd6-4ddb-adc8-e203e5542603\">\n",
              "  <button class=\"colab-df-quickchart\" onclick=\"quickchart('df-1f4246dd-5fd6-4ddb-adc8-e203e5542603')\"\n",
              "            title=\"Suggest charts\"\n",
              "            style=\"display:none;\">\n",
              "\n",
              "<svg xmlns=\"http://www.w3.org/2000/svg\" height=\"24px\"viewBox=\"0 0 24 24\"\n",
              "     width=\"24px\">\n",
              "    <g>\n",
              "        <path d=\"M19 3H5c-1.1 0-2 .9-2 2v14c0 1.1.9 2 2 2h14c1.1 0 2-.9 2-2V5c0-1.1-.9-2-2-2zM9 17H7v-7h2v7zm4 0h-2V7h2v10zm4 0h-2v-4h2v4z\"/>\n",
              "    </g>\n",
              "</svg>\n",
              "  </button>\n",
              "\n",
              "<style>\n",
              "  .colab-df-quickchart {\n",
              "      --bg-color: #E8F0FE;\n",
              "      --fill-color: #1967D2;\n",
              "      --hover-bg-color: #E2EBFA;\n",
              "      --hover-fill-color: #174EA6;\n",
              "      --disabled-fill-color: #AAA;\n",
              "      --disabled-bg-color: #DDD;\n",
              "  }\n",
              "\n",
              "  [theme=dark] .colab-df-quickchart {\n",
              "      --bg-color: #3B4455;\n",
              "      --fill-color: #D2E3FC;\n",
              "      --hover-bg-color: #434B5C;\n",
              "      --hover-fill-color: #FFFFFF;\n",
              "      --disabled-bg-color: #3B4455;\n",
              "      --disabled-fill-color: #666;\n",
              "  }\n",
              "\n",
              "  .colab-df-quickchart {\n",
              "    background-color: var(--bg-color);\n",
              "    border: none;\n",
              "    border-radius: 50%;\n",
              "    cursor: pointer;\n",
              "    display: none;\n",
              "    fill: var(--fill-color);\n",
              "    height: 32px;\n",
              "    padding: 0;\n",
              "    width: 32px;\n",
              "  }\n",
              "\n",
              "  .colab-df-quickchart:hover {\n",
              "    background-color: var(--hover-bg-color);\n",
              "    box-shadow: 0 1px 2px rgba(60, 64, 67, 0.3), 0 1px 3px 1px rgba(60, 64, 67, 0.15);\n",
              "    fill: var(--button-hover-fill-color);\n",
              "  }\n",
              "\n",
              "  .colab-df-quickchart-complete:disabled,\n",
              "  .colab-df-quickchart-complete:disabled:hover {\n",
              "    background-color: var(--disabled-bg-color);\n",
              "    fill: var(--disabled-fill-color);\n",
              "    box-shadow: none;\n",
              "  }\n",
              "\n",
              "  .colab-df-spinner {\n",
              "    border: 2px solid var(--fill-color);\n",
              "    border-color: transparent;\n",
              "    border-bottom-color: var(--fill-color);\n",
              "    animation:\n",
              "      spin 1s steps(1) infinite;\n",
              "  }\n",
              "\n",
              "  @keyframes spin {\n",
              "    0% {\n",
              "      border-color: transparent;\n",
              "      border-bottom-color: var(--fill-color);\n",
              "      border-left-color: var(--fill-color);\n",
              "    }\n",
              "    20% {\n",
              "      border-color: transparent;\n",
              "      border-left-color: var(--fill-color);\n",
              "      border-top-color: var(--fill-color);\n",
              "    }\n",
              "    30% {\n",
              "      border-color: transparent;\n",
              "      border-left-color: var(--fill-color);\n",
              "      border-top-color: var(--fill-color);\n",
              "      border-right-color: var(--fill-color);\n",
              "    }\n",
              "    40% {\n",
              "      border-color: transparent;\n",
              "      border-right-color: var(--fill-color);\n",
              "      border-top-color: var(--fill-color);\n",
              "    }\n",
              "    60% {\n",
              "      border-color: transparent;\n",
              "      border-right-color: var(--fill-color);\n",
              "    }\n",
              "    80% {\n",
              "      border-color: transparent;\n",
              "      border-right-color: var(--fill-color);\n",
              "      border-bottom-color: var(--fill-color);\n",
              "    }\n",
              "    90% {\n",
              "      border-color: transparent;\n",
              "      border-bottom-color: var(--fill-color);\n",
              "    }\n",
              "  }\n",
              "</style>\n",
              "\n",
              "  <script>\n",
              "    async function quickchart(key) {\n",
              "      const quickchartButtonEl =\n",
              "        document.querySelector('#' + key + ' button');\n",
              "      quickchartButtonEl.disabled = true;  // To prevent multiple clicks.\n",
              "      quickchartButtonEl.classList.add('colab-df-spinner');\n",
              "      try {\n",
              "        const charts = await google.colab.kernel.invokeFunction(\n",
              "            'suggestCharts', [key], {});\n",
              "      } catch (error) {\n",
              "        console.error('Error during call to suggestCharts:', error);\n",
              "      }\n",
              "      quickchartButtonEl.classList.remove('colab-df-spinner');\n",
              "      quickchartButtonEl.classList.add('colab-df-quickchart-complete');\n",
              "    }\n",
              "    (() => {\n",
              "      let quickchartButtonEl =\n",
              "        document.querySelector('#df-1f4246dd-5fd6-4ddb-adc8-e203e5542603 button');\n",
              "      quickchartButtonEl.style.display =\n",
              "        google.colab.kernel.accessAllowed ? 'block' : 'none';\n",
              "    })();\n",
              "  </script>\n",
              "</div>\n",
              "\n",
              "    </div>\n",
              "  </div>\n"
            ],
            "application/vnd.google.colaboratory.intrinsic+json": {
              "type": "dataframe",
              "summary": "{\n  \"name\": \"df_tarea\",\n  \"rows\": 3,\n  \"fields\": [\n    {\n      \"column\": \"toxic_sentence\",\n      \"properties\": {\n        \"dtype\": \"string\",\n        \"num_unique_values\": 3,\n        \"samples\": [\n          \"her hair is always in her way and she 's just a stupid bitch .\",\n          \"now that the shit is hitting the fan someone has to clean it up , but the u\",\n          \"hard to believe someone can be that ignorant .\"\n        ],\n        \"semantic_type\": \"\",\n        \"description\": \"\"\n      }\n    },\n    {\n      \"column\": \"neutral_sentence\",\n      \"properties\": {\n        \"dtype\": \"string\",\n        \"num_unique_values\": 3,\n        \"samples\": [\n          \"her hair is always in her way and she's insufferable.\",\n          \"Now that the issue is hitting the fan someone has to clean it up\",\n          \"It is hard to believe that someone can be that unthoughtful\"\n        ],\n        \"semantic_type\": \"\",\n        \"description\": \"\"\n      }\n    }\n  ]\n}"
            }
          },
          "metadata": {},
          "execution_count": 3
        }
      ],
      "source": [
        "df_tarea=pd.read_csv(\"hf://datasets/s-nlp/paradetox/train.tsv\", sep=\"\\t\")\n",
        "df_tarea.rename(columns={\"en_toxic_comment\":\"toxic_sentence\", \"en_neutral_comment\":\"neutral_sentence\"}, inplace=True)\n",
        "df_tarea.sample(3)"
      ]
    },
    {
      "cell_type": "markdown",
      "metadata": {
        "id": "D-wcgg5JrZCT"
      },
      "source": [
        "📝 Finalmente, se define el **dataset final** que utilizará los dataframes anteriormente implementados."
      ]
    },
    {
      "cell_type": "markdown",
      "metadata": {
        "id": "4Z5PsB0bEBXz"
      },
      "source": [
        "### Train-test split"
      ]
    },
    {
      "cell_type": "code",
      "execution_count": 4,
      "metadata": {
        "id": "5OD8ntBQEBX0"
      },
      "outputs": [],
      "source": [
        "train, val = train_test_split(df_tarea, train_size=0.8, random_state=33)\n",
        "\n",
        "X_train = list(train['toxic_sentence'])\n",
        "y_train = list(train['neutral_sentence'])\n",
        "\n",
        "X_val = list(val['toxic_sentence'])\n",
        "y_val = list(val['neutral_sentence'])\n",
        "\n",
        "X_test = list(df_gh['toxic_sentence'])\n",
        "y_test = list(df_gh['neutral_sentence'])\n",
        "for i,e in enumerate(y_test):\n",
        "    if not isinstance(e, str):\n",
        "        X_test.pop(i)\n",
        "        y_test.pop(i)"
      ]
    },
    {
      "cell_type": "markdown",
      "metadata": {
        "id": "VvfKIn2dEBX0"
      },
      "source": [
        "## Pipeline de detoxificación\n",
        "\n",
        "Nuestro modelo de detoxificación tendrá un pipeline que consistirá de los siguientes pasos:\n",
        "\n",
        "1. **Traducción**: Traduciremos las frases del idioma original al inglés\n",
        "2. **Detoxificación**: El modelo detoxificará la frase en inglés\n",
        "3. **Retro-traducción**: La frase detoxificada será traducida del inglés al idioma original"
      ]
    },
    {
      "cell_type": "markdown",
      "metadata": {
        "id": "lLns3uFAEBX2"
      },
      "source": [
        "## Detoxificación\n",
        "\n",
        "Ahora haremos un finetunning de un modelo de Huggingface para detoxificar el código."
      ]
    },
    {
      "cell_type": "markdown",
      "metadata": {
        "id": "DFo0rnsDEBX3"
      },
      "source": [
        "#### Creación de los dataset"
      ]
    },
    {
      "cell_type": "code",
      "execution_count": 5,
      "metadata": {
        "id": "D1TmyYJTEBX3"
      },
      "outputs": [],
      "source": [
        "class DetoxificationDataset(torch.utils.data.Dataset):\n",
        "    def __init__(self, encodings, target_encodings):\n",
        "        self.encodings = encodings\n",
        "        self.target_encodings = target_encodings\n",
        "\n",
        "    def __len__(self):\n",
        "        return len(self.encodings['input_ids'])\n",
        "\n",
        "    def __getitem__(self, idx):\n",
        "        item = {key: val[idx].clone().detach() for key, val in self.encodings.items()}\n",
        "        item['labels'] = self.target_encodings['input_ids'][idx].clone().detach()\n",
        "        # Reemplazar pad_token_id con -100 para ignorar tokens de relleno en la pérdida\n",
        "        # item[\"labels\"][item[\"labels\"] == tokenizer.pad_token_id] = -100\n",
        "\n",
        "        return item"
      ]
    },
    {
      "cell_type": "code",
      "execution_count": 6,
      "metadata": {
        "colab": {
          "base_uri": "https://localhost:8080/"
        },
        "id": "Axpbm_YVEBX3",
        "outputId": "5472eff8-b89e-4b7f-b144-a355ef946ad9"
      },
      "outputs": [
        {
          "output_type": "stream",
          "name": "stderr",
          "text": [
            "You are using the default legacy behaviour of the <class 'transformers.models.t5.tokenization_t5.T5Tokenizer'>. This is expected, and simply means that the `legacy` (previous) behavior will be used so nothing changes for you. If you want to use the new behaviour, set `legacy=False`. This should only be set if you understand what it means, and thoroughly read the reason why this was added as explained in https://github.com/huggingface/transformers/pull/24565\n"
          ]
        },
        {
          "output_type": "stream",
          "name": "stdout",
          "text": [
            "['DIGIT year olds can be annoying too , doesn t mean you fight them', 'i am reading early', 'democrats , liberals demonstrate every day that their mental condition is not good.', \"Straight people get married and it doesn't always make things better for kids\", 'if the uk did anything but talk nonsense and supply weapons id be very surprised', 'and telling nato to leave.', 'Unless we open the can of usa.', 'i enjoy the tasty nice warm pile every morning', 'mind your own stuff', 'i d love to live there if it weren t for california cost of living .', 'The natives will demand billion form the village and get it.', 'ours isnt good either.', 'why are these gangsters still not in jail ?', 'What in all that is?', 'I constructed your house using a bad material', 'It is the only thing keeping these species alive right now, though overhunting has threatened many species.', 'So again, unless you have something useful to say, go away.', 'Bloated nonsense that comes out of these other', 'lockheed or raytheon or boeing, you name it, employs half his districts employees .', 'Please,may I ask how many times that flag been flown over a lynched African American?', 'if you don t use it i guess it would seem like useless government stuff .', 'call me on my mistake ?', \"It's like warning to Americans.\", 'Why not stop health insurance companies all together and get the government to stop hospitals from hiking price', 'Missouri needs to catch things up right now.', 'they need to stop doing bad things in public', 'Stay away it is an international airspace', 'Shooting is only for self-defense, not for murder', 'those guys really like to kill isis .', 'Ibrahim has been kind of mean lately', 'Perhaps because white professors are prejudiced against black kids.', 'So keep quiet untill you know what you are talking about.', 'Oh you just blew their minds', 'You can only trick are the feeble uninformed.', 'That thing has got to stop.', 'Locking him in the jail is the best thing possible, since it protects others from his willful drunk driving.', 'If you believe their lies, then you become the victim.', 'if you continue being wrong on your approach to your work, you will be discontinued from editing wikipedia.', 'Come on, adn, do you really have to publish this?', \"you don 't joke with a mommas boy\", 'Oh goodness, just finished the season and it is so good but so *dark*, especially at the end', 'Guess what, he was born with a male genitals, he is a boy.', \"you 've lost your chances\", 'I might have it', 'And I will add that anything anyone can think of to articulate the actions of the ones that control the gun', 'she  lied to them about what she was doing .', 'Did he come from poverty and work hard to buy the land ? doubtful .', 'being disrespectful and insensitive is really the same as reading people and things up.', 'to raise the price of , kind of like drugs.', 'The get attention which is exactly what you guys are giving them.', 'why is this not higher up ? ? ?', 'Nevertheless, you have proved that you are untrustworthy.', 'he is a bully', 'No self-respecting Australian or New Zealand would read such hateful things.', 'pretty sure the right wing media is going to expose hidden out of their bags either way.', 'I learnt something today.', 'The whole place us corrupt', 'and another piece of post, get some help from a friend.', 'Some of them are actuated by incompetency.', 'This guys have no idea of business and lavks ability of forward thinking', 'I wish people would keep quiet about big money in politics.', 'I wont do what you tell me', 'If you want a date ,try grindr', \"This act wasn't right\", 'why is reddit so biased', 'that dangerous water pipe is just a fatal accident waiting to happen .', 'This has gone full circle from parody', 'assemble a screwing coal plant there and let them all stifle to death on their own crapulence', 'people like scott brison are a major problem and need to be eradicated.', 'It is better to keep quiet and appear as unwise the to talk and confirm it', \"Don't think of doing that again\", 'I have been waiting for a long time.', 'but mostly issues of middle of the street', 'OH , I have to change my whole outlook', 'This mess is too much to think about.', 'Same situation is going on in the pnw too.', 'You are not an appropriate lawyer', 'we do not elect the minority, who confuse dictators with elected warriors.', \"the aim is to waste people's time by deconstructing their effusions.\", 'Where are you from?', 'you need to be able to make a note.', 'Well they destroyed YouTube', \"Minorities don't like when the police uphold the lawa\", 'in other news op is not educated enough', 'Who is burdening you with diversity', 'And here you people always clain you are for the poor', 'good thing i never supported those', 'it s about time .', 'Lets let those bombs do what they do best and blow things up', 'the original surface was bad , but the new pro model is a quality enterprise tablet .', 'Why does it bothere you dude?', 'You are really annoying', \"I don't care about sides\", 'they have all the money , how am i supposed to earn my billions', \"why can 't they just  give the guy credit for voting no ?\", \"why haven 't they condemned north korea ?\", 'You annoy me', 'Cancer is very dangerous.', 'lemme smoke my weed.', 'Taking a stand with either party is equally bad.', 'Hey man keep that to yourself', 'impeachment of trump is a really bad idea .', 'it is however just a useless procedure.', 'They get so much ofproblems by entire world', \"I am just glad he doesn't actually believe in this nonsense\", \"I can't see or speak to them without dire consequences.\", 'Oh no, who thinks like that?', 'the moment they brought me in i would have played it for them .', 'Lock up wynne before she wastes more money', 'just imagine how many less - than - capital defendants have had their lives affected by this person', \"I don't think it is a good idea to move to Europe.\", 'please leave me alone', 'It was not a good idea putting lipstick on the pig, it is a sign of corruption', 'Some women are manifulative', 'it is a fact that sending lawbreakers to az saved tonsey .', 'No way number bricks fit in a car', 'But this capitulating to precisely the kind of harmful thinking way that he identified as wrong before maddening.', 'I think plastic on a beautiful old bridge will look unfitting regardless', 'colin kaepernick is an troblemaker', 'john mccain is not telling the truth', 'what is wrong with you?', 'what are you talking about ?', \"i can't believe we are even discussing thing like this\", 'maybe not always relevant , but they sure are fun you', 'I thought You were a Russian man who did this bad act, but maybe you ara a Chinese one.', 'They need to stop mistreating people.', 'seriously I care less about being rich or poor, I get to live forever scenario .', 'Why would he eat some soup that she fed him after he raped her', 'My mom is not at fault', 'not the rich and the government , but the people will be in bad street.', 'this talk is tiresome', 'Omg!that article was filled with ads .', 'please be nice, we just want to be your friend and faithful ally.', 'You have a very poor taste in choosing the information', 'there are people in the hospital suffering right now', 'all that attention to an attention-starved one who is a label flop.', 'and they will be paid two pers payouts, she is very smart, that is for sure .', 'i knew they were deceiving us', 'I am on the side of the people who were charged with massive fines for non violent crimes.', 'I disagree with him and his political cohorts.', 'I disagree with you', 'the conduct of the gop on this , as in so much else , is pitiable', 'The awful Scottish, English and Irish accents are so poorly done that they come off as just plain racist', 'They must have been incompetent to get caught in today environment.', 'i will just click the first name so i can go home', \"Turkey could invade and Russia wouldn't be able to do anything about it\", 'whoever bought it sure isnt going to give people care about the venue', 'the really sad part is that they tried this story before in the number maannews.', 'fact is that they are scared.', 'that is nasty on your lungs .', 'Military can make a mistake.', \"he doesn't do well in life .\", 'What a bunch of lies', 'A member of your entourage is quite difficult to work with.', 'Do they know what to say', 'Your questions are odd, do you have ulterior intentions?', 'i never uttered or wrote that!', 'Removed from reality in deed', 'Your are not truthful person.', 'then all of a sudden I see her, she now got big breasts and everything', \"That's just unreasonable, how can I be blocked for stating a fact.\", 'Your unbelievable', 'perhaps iran would be nicer if we didn t , you know , treat them poorly for the past number years .', \"I hope the Turks aren't innocent enough to hand it over to him.\", 'he will spoil that also', 'It is very shaming that you supporting possessive manner.', \"We 're not worlds leaders, all you 'll get is speculation .\", \"the storm when he wins will be amazing ! can 't wait .\", 'another piece of manufactured stuff !', 'Why is the scale of that graph not placed rightly.', 'hopefully that will be enough of an incentive to fix the  roads', 'i posted this because khodorkovsky is inappropriate', 'get the brewbaker id and get yourself to mars ! .', 'I have enough toilet paper and food.', 'yes, who is the government to be involved in my education of my children? .', 'And they are too inosent to realize it.', 'I was a weak kid though', 'Honestly, who cares what words do you have to recite?', 'sad, pitiful, but criminally responsible', 'there is a problem on bryans stream .', 'Have fun wasting your precious time watching TV', 'Stop pull that game', 'I do not want to be annoying but I do not think in the same way', 'Hey beavers this is capitalism', 'What is this comment?', 'you should treat better', 'they are dangerous and was probably  white captain looking to terrorize innocent creatures .', \"I don't care where are you going.\", 'Here is where you prosecution lies', 'Of course not, just more issues with russia', 'how many heartless people does it take to slaughter thousands of helpless wild animals .', \"He stopped making sense, but he's still talking.\", 'Therefore, to be sexually violated.', 'murderers dont represent islam any more than priests represent the catholic church', 'That sounds very democratic.', 'i wish we could punish politicians for things like this', 'I do not agree with this comment of the week', \"You're delusional which is not funny.\", \"I am not very good at poems and so I don't understand Erogan.\", 'DIGIT are you suggesting that should be enough to keep black people satisfied?', 'Someone disagrees, and they say we only need vets for free housing', 'who knew that the know it all have an inappropriate views', \"you make the argument like you don't reason\", 'and the redditors still chose to act the same way', 'Because israeli rabbis never say wrong stuff', 'They will face very high consequences', 'With all the money alaska has collected through oil taxes your representatives want to tax you', \"what's with these people coming on here and saying all these things?\", 'Do not be like that and add clear vandalism to the article.', 'Relax at home and do not vote at your own risk', 'thank you for the free advice', 'This is all made up by designated cadres.', 'better to keep your mouth shut and be considered neutral than to open it and talk nonsense', 'Rush out of the emancipator.', 'Another person who is racist.', 'It was clear by the very first sentence of the article.', 'Are you insane?', \"the answer is probably just that you're  naive\", 'Flood your society with guns and it will result in violence.', 'The leaders themselves are not competent.', 'your type of example are not very smart', 'Parliament is dull', 'gt obama is unreliable person.', 'They named it after him', 'Could have fooled me, all government are corrupt.', 'canada sends broken-down old crap planes and pack flautists into fight .', 'its current president was an ordinary citizen', 'wow just ignore scott walker .', 'Its time to let go of that wrong decision, my opinion, that propeety belongs to all Alaskans not a selected few, sorry.', 'I could understand how many people would get scared seeing a title like this.', 'you lost, admit it and calm down.', 'That is a fantastic point.', 'It is only Ukraine.', 'you have some inconvenient qualities', 'Why was he carrying that?', 'I wonder what fear is that turns these people into such aggressors?', 'read your world history and wake up', 'I will gonna defeat you', 'And that is a way to mess around.', \"I don't care\", 'Some most of thia fire was on balconies which dropped flaming onto others.', 'those who are just learning about this and have not been preparing its to late you are screwed .', 'Seriously, some people are very nervous about your point scoring, and they do not take it seriously.', 'How can you support the economy when you can barely support yourself?', \"daesh and isis actually mean about the same thing and they don't care about anything\", \"It has a few things that won't pass the civility test.\", 'so vw drops almost number in value after this problem, but gn still exists after killing hundreds of people?', 'well, in Muslim countries they are very strict in their way of dealing with Islamophobia.', \"It's absurd because it does not show the views of the people.\", \"food is really cheap now so it's not an option to rob a store rather and go to jail than starve to death\", 'No offense but this has already been done', 'If he is found to have acted in cold blood, the feds are going to persecute him', 'ya unlike the dems who haven t done anything about climate change .', 'They re a tinfoil wearing publication owned by a cult led by a known tax evader', 'luke, when you call someone unintelligent , are you projecting?', \"the same as his unnecessary wall, and the wrong idea of \\u200b\\u200bthe solar panel, and countless other things he shouldn't have done\", 'Why do you do this offence', \"and because the government need this land, the people who live there don't matter, right?\", 'He was arrested twice in one month, not just in lane county but in most of oregon counties.', \"that's a bad tactic\", 'Please calm your nerves, CNN.', 'have you ever heard of revenge?', 'everybody is so afraid', 'Barbarian gooks gave us an unfair treatment.', 'furthermore, negro simply implies dark , right ? .', \"It's time to avoid the issue and stay calm\", 'Can we just keep bad stuff out of this?', \"I'm annoyed that Reddit is assuming people with dissenting opinions are being paid\", 'I have no respect for her.', 'nobody wants to drink raw milk', 'That any young people would be influenced by his nonsense is wrong on his part', 'It is nothing less than a hateful moan of the bad loser who did not get her way.', 'So cctv shows Crimea parliament explosipm with a picture of God knows what with a bit of smoke in it', 'the chinese came out of this looking like dishonest , bad tempered children .', 'Hey buddy, why are you saying mean things to me?', 'white maggots are not safe', \"I couldn't even understand what it's saying about...\", 'it would  be chaos if that happened', 'Hummus is still hummus delicious', '*well, he shot himself.', 'Yet to this day people still believe the lies about Clinton.', 'Your sentence is not good', 'stop letting incompetency run the show and destroy canada in the same way he ruined', \"i'm on vacation in the san juans and the winds were strong\", 'the headline for this story should read lucky to be alive lost at seaths for no good reason', 'remember the part where he said to mess with your own face?', 'How does it feel to not be yourself?', 'why don t you contribute meaningfully', 'Or just go with this bad person then', 'good god , that show is very nice', 'Corrupted man is more appropriate.', 'Anyway, offtopic and I will ignore your patent.', \"I can't help thinking if they wanted my opinion on something, they could just ask.\", 'It is difficult to keep track of people that break up things down there.', 'World is going to end', 'the heartless decisions made that innocent muslim kill people!', 'What is the title of this report?', 'Please, do not remove me for being offensive.', 'thank you for your efforts, even meaningless, heartless, worthless and, above all, tireless.', 'so split hairs , and try to make something of it if you want', 'now that is just a useless thing to say.', 'Time to wage war and change somethings', \"Sure that doesn't mean unhealthy legislation\", 'your  religion is just like the pre lutheran catholic church', 'so kashten is gay.', 'Who do these feminists think they are anyway?', \"you don 't remember that ?\", 'And you spend money on this?', 'jesus , what did they do ?', 'A writer who wants to be known must write something about famous men.', 'your sorts will most likely have dark grandkids or extraordinary grandkids soon at any rate .', 'Russia will not handle them well', 'I bet many of your friends are now regretting themselves for their naivete', 'where do you get your naivety?', 'You know your stuff, bruh', 'the guy was a mess.', 'that and their not so good service', 'Org there s wikipedia articles for all sirts of random things like this .', 'why dont they punish Kim ?', 'If you poison the water there will be no hope of survival.', \"delta hasn 't always been bad , but this was one wrong move .\", \"Do don't have the required understanding, ideas and knowledge\", 'Legacy of being a selfish person', 'How are they getting to outer space?', 'actually no , i hate looking for things.', 'I am a homo sexual.', 'i sell quite a bit of things on there, and paypal has actually helped me pay the bills', 'no, as in beat him really hard before giving him his sentence .', 'You have more to learn.', 'do people really think everyone is too inocent to recognize this double standart?', \"Why would you pretend like others and place other's names?\", 'That is bold action', 'Immoral wastes of life', 'The arab mess it up themselves, and were just helping the less evil ones.', \"and you can't draw cartoons\", 'the are always puffing him up and blowing smoke on him and aggrandizing him and his few accomplishments.', 'munozs letter implicates the whole board of directors as feckless people, rolerating a self regarding candidate as their lead employee', \"Doesn't thia happen all the time?\", \"Don't let the doorknob hit you\", \"Judging by the problems I've seen in my number years, number of those spent with George w.\", 'They don’t care about terrorism at all.', \"Whatever. It's dead now and Nothing can be done about it.\", \"Don't touch the thing that's really close by\", 'No less, some straight up glory hole stuff to.', 'dmvs are unbelievable', \"That's  not possible,just move anchorage to texas\", 'Is there an option to uplaod a vid to YouTube in poor quality so it uplaods faster?', \"I am an Australian, but I don't say profanity words all the time.\", 'In her support for the crime bill, for example,she used tribal coded rhetoric to cast black children as animals', 'If you find yourself using your religion to deny rights to women you are a mean person', 'If a circumcision reduced by a half inch that would definitely be extremely botched', 'These are not heroes', 'Haha okay i must be out of my mind to find that entertaining, I will see myself out.', 'I do not agree with Novick and his ways.', \"For those without health insurance in states that didn't expand medicaid\", 'not to be confused with the legal firm associates.', 'This has to be the worst editorial of all time.', 'anyone can edit it , it is very simple .', 'you know , eu have made mistakes but they are smart .', 'So is torture why should they care?', 'I guess you have entirely different point of view.', 'Doese a Catholic bear advice in the Vatican?', 'take your own advice and go off to one of these other subreddits .', 'Lol i remember Glenn beck and a ton of other americans using the tragedy for attention', 'You are all just pushing on your agenda instead of not taking sides.', 'the weaklings are bound to the dull spaces of the web where they should be .', \"You could try urinating on it, there's a chance your hair will grow over it.\", 'the first people i know to kill and be killed over a pair of shoes were both coloured', 'do people actually believe in this?', \"The incompetence and naive behavior of the folks can't be overstated or exaggerated.\", 'and they really dont care about what we think or of our sanctimonious moralizing .', 'did the black players protest the murderer of white teacher in oakland?', 'Plus,christian extremists live for sins that punishes other people', 'His tenure will end soon, you see.', \"if you're appointed by the part time mayor, then you're being used .\", \"I mean its been harmful to so many people and now they're gonna give it an establishes base of operations?\", 'Either way, how could you forget your child in the backseat?', 'they have wrongly added a shrill to it', \"He has almost a year and a half to mess up so bad that even the worst can't help noticing\", 'that is awesome!', 'if you continue to revert edits without just cause, you will be reported to wikipedia!', 'yup faster than a $ DIGIT  hare', 'you are not pretty inside', 'hiya frank , you know someone called inappropriately then ? .', 'so they would finally go  , sounds like a plan .', 'the point is that either choice was bad', 'does this occurrence happen there every year ? .', 'you lost because you are not good .', 'She is not capable to become a leader.', 'They were most likely bought out by the Koch brothers.', 'if this is shia lebouff thing i can only hope he grows out that sweet pony tail with it .', \"Can't you do anything?\", 'honestly hope that someone unwise steps out from his keyboard and gets absolutely destroyed.', 'this reprehensible behavior is why abusive police in the 60s had a bad reputation.', 'Mind your own business.', 'GM CEO has private eyes to confirm GM built substandard cars.', \"it's refreshing to see someone who is so smart and edgy .\", 'only if they have a death wish', 'We do not need people against Trump here!', 'hurting itself at the protest', \"I can't wait until south park makes an episode about you.\", 'People saying things like these people are monsters and how can these people get away with this.', 'Any of us who did this sort of thing would be locked up already.', 'very few of these copycats clowns ever make cora requests for those case files', 'what is the news story ?', \"Don't worry about below average schools , bursting water mains and  homeless crowding the streets .\", 'That guy used to be a mean person', 'Only if there are good pics involved', \"you don't know what you say.\", \"Such a good  band , who 'll forever be tied to terrorism now simply because of their name .\", 'He is very arrogant.', \"maybe they should take him back to his country or his grandparents' country.\", \"they 're living streaming on bbc\", 'He is a con man.', 'offer refused because he was already busy with the people  peeing on him .', \"Don't be partisan.\", \"I'm good to many restarts on the site\", 'wheres dis person get his degree from ?', 'Reddit has been the biggest kanye hit i ve seen on the internet.', 'kamlesh vaswani confirmed to work for her.', 'china and russia will use there power if those ships do anything', 'On your face and in your buttocks', 'Randy Johnson leaves mean comments in social media platforms.', 'Those things are meaningless', 'this is possibly the most oversimplified thing i have ever read.', \"I don't think you are making smart decisions.\", 'Can you change your stance ladies?', 'you are getting older', 'The germans today are the same they were in and throughout their history', 'no, that is inappropriate', 'poo , you know kanye will begin executing individuals now .', \"admitting to messing up when you're already covered in bad transparency\", 'Democracy is a belief in the collective wisdom of individual ignorance.', 'glad to see they were allowed to mess up barbara coast', 'as I have said a thousand times, the translation voyage uses Spitzbergen, with a z', 'you need to educate yourself more from time to time', 'Away with them and I refuse to live by their rules', 'most of the information is total waste', 'reducing early voting from number down to number days is affecting all over the citizens of the united states', 'Nice family', 'Americans complaining about taxs is annoying.', 'Also known as Middle East part number', 'Harper needs to get out of office', 'i just read that as \" ebola confirmed in mail .', 'Another mouth talks.', 'looked like a music video with synced audio , and footage editing .', 'Last warning for you, it takes me minutes to resolve a page so you can take help of Wikipedia', \"Don't annoy me\", 'almost feels like we need the vigilantes to show the bad people their limits', 'You are not good.', 'even afghanistan has a number.', 'i mean how much does that hurts?', 'Only the misinformed people voted for him.', 'It hurts that you have a bad character', 'that you have what you deserve, and all those who are like you', 'collins is clueless, but we didnt need this article to establish that fact.', 'number will solve alot of problems if it comes down to it .', 'but a lethal inject needle is so much thinner.', 'they are two face', 'for this reason we must have the death penalty in the prison system', \"they weren't suicide bombing for nothing certainly\", 'Economies of Iran, Venezeula, Iraq, etc. are still struggling.', 'she always speaks abruptly', 'They are very poor even than unsuitable sicilians.', 'Wow . What  were they thinking when they named that cleaning product? seriously .', 'having taken a lesson by failing in gre practice test i will never do the same mistake.', 'Quit trying to pretend that the us is anything like this', 'My comment was more a ranting about how there should be more outrage at home for these things', 'you support a criminal', 'Europe is amazing that way, yeah', \"I don't think it's strong fiscal management.\", 'the woman is not good, but the man is not normal.', 'those whose ignorance is native as the willfully ignorant can not be excued or forgiven', 'we d go all wwi wwii canada on then', 'No one is interested in unimportant things.', 'Not getting involved in foreign matters that we cannot do anything about.', 'cops were shot at multiple molotovs.', 'Gotta be like them in their world', \"it doesn't taste good and I've never even seen it available outside of five - star restaurants.\", 'Look like the crew is making decisions now.', 'That second explosion is violent.', 'people like this rarely care about facts', 'China can get this if they want to.', 'can someone explain this  please .', 'beers endorse inappropriate actions', 'Top ten most relevant \" are you sorry?\"', 'All I got from that was, what will be will be and nobody will be ready for it', 'selective censorship and non reporting of factual and correct statements he makes of other leaders irresponsible decisions', 'Does he also mention walking up the next morning feeling horrible?', \"just in case any one is wondering , sign says , let's take a break.\", \"I don't think it's wrong since she didn't have to accept.\", 'you are a disappointment.', 'No , racism is a lot older than the newspaper .', 'Yeah , Americans with quadruple citizenship so they have where to go in case things gets serious anywhere else .', 'It is crazy killing people with their guns.', 'And complain about me or my edits', 'thats an racist comment .', 'this is some clockwork orange level thing', 'Anyone is better than him.']\n",
            "Tamaño del dataset de entrenamiento: 15795\n",
            "Ejemplo del dataset: {'input_ids': tensor([    3,   287,  1429,    48,  1429,    19,     3,    89,  4636,    53,\n",
            "        23407,     1,     0,     0,     0,     0,     0,     0,     0,     0,\n",
            "            0,     0,     0,     0,     0,     0,     0,     0,     0,     0,\n",
            "            0,     0,     0,     0,     0,     0,     0,     0,     0,     0,\n",
            "            0,     0,     0,     0,     0,     0,     0]), 'attention_mask': tensor([1, 1, 1, 1, 1, 1, 1, 1, 1, 1, 1, 1, 0, 0, 0, 0, 0, 0, 0, 0, 0, 0, 0, 0,\n",
            "        0, 0, 0, 0, 0, 0, 0, 0, 0, 0, 0, 0, 0, 0, 0, 0, 0, 0, 0, 0, 0, 0, 0]), 'labels': tensor([    3,   287,  1429,    48,  1429,    19, 23407,     1,     0,     0,\n",
            "            0,     0,     0,     0,     0,     0,     0,     0,     0,     0,\n",
            "            0,     0,     0,     0,     0,     0,     0,     0,     0,     0,\n",
            "            0,     0,     0,     0,     0,     0,     0,     0,     0,     0,\n",
            "            0,     0,     0])}\n"
          ]
        }
      ],
      "source": [
        "model_name = \"google/flan-t5-small\"\n",
        "tokenizer = T5Tokenizer.from_pretrained(model_name)\n",
        "\n",
        "X_train_tokens = tokenizer(X_train, truncation=True, padding=True, return_tensors=\"pt\")\n",
        "y_train_tokens = tokenizer(y_train, truncation=True, padding=True, return_tensors=\"pt\")\n",
        "\n",
        "X_val_tokens = tokenizer(X_val, truncation=True, padding=True, return_tensors=\"pt\")\n",
        "y_val_tokens = tokenizer(y_val, truncation=True, padding=True, return_tensors=\"pt\")\n",
        "\n",
        "X_test_tokens = tokenizer(X_test, truncation=True, padding=True, return_tensors=\"pt\")\n",
        "y_test_tokens = tokenizer(y_test, truncation=True, padding=True, return_tensors=\"pt\")\n",
        "\n",
        "train_dataset = DetoxificationDataset(X_train_tokens, y_train_tokens)\n",
        "val_dataset = DetoxificationDataset(X_val_tokens, y_val_tokens)\n",
        "test_dataset = DetoxificationDataset(X_test_tokens, y_test_tokens)\n",
        "\n",
        "\n",
        "print(\"Tamaño del dataset de entrenamiento:\", len(train_dataset))\n",
        "print(\"Ejemplo del dataset:\", train_dataset[0])\n",
        "\n",
        "\n",
        "# training_args = TrainingArguments(\n",
        "#     output_dir='./checkpoints',\n",
        "#     eval_strategy=\"no\",\n",
        "#     per_device_train_batch_size=128,\n",
        "#     learning_rate=1e-4,\n",
        "#     num_train_epochs=5,\n",
        "#     report_to=[\"none\"],\n",
        "#     #fp16=True, # acelerar entrenaminento\n",
        "# )\n"
      ]
    },
    {
      "cell_type": "markdown",
      "metadata": {
        "id": "SuRpKJviEBX3"
      },
      "source": [
        "## Entrenamiento"
      ]
    },
    {
      "cell_type": "code",
      "execution_count": 7,
      "metadata": {
        "id": "RCZG7AfCEBX3",
        "colab": {
          "base_uri": "https://localhost:8080/"
        },
        "outputId": "b9d1a04e-eff1-4311-f83c-bb979ea4cb01"
      },
      "outputs": [
        {
          "output_type": "stream",
          "name": "stdout",
          "text": [
            "ESTADÍSTICAS DEL ENTRENAMIENTO:\n",
            "Total de parámetros: 76,961,152\n",
            "Parámetros entrenables: 22,744,064\n",
            "Parámetros congelados: 54,217,088\n"
          ]
        }
      ],
      "source": [
        "\n",
        "model = T5ForConditionalGeneration.from_pretrained(model_name)\n",
        "\n",
        "num_training_layers = 2 # El número de capas que se entrenarán\n",
        "\n",
        "# Congelar todos los parámetros del modelo\n",
        "for param in model.parameters():\n",
        "    param.requires_grad = False\n",
        "\n",
        "# Descongelar las últimas n capas del decoder\n",
        "for param in model.decoder.block[-num_training_layers:].parameters():\n",
        "    param.requires_grad = True\n",
        "\n",
        "# Mantener la capa de salida (`lm_head`) entrenable\n",
        "for param in model.lm_head.parameters():\n",
        "    param.requires_grad = True\n",
        "\n",
        "total_params = sum(p.numel() for p in model.parameters())\n",
        "trainable_params = sum(p.numel() for p in model.parameters() if p.requires_grad)\n",
        "\n",
        "print(\"ESTADÍSTICAS DEL ENTRENAMIENTO:\")\n",
        "print(f\"Total de parámetros: {total_params:,}\")\n",
        "print(f\"Parámetros entrenables: {trainable_params:,}\")\n",
        "print(f\"Parámetros congelados: {total_params - trainable_params:,}\")"
      ]
    },
    {
      "cell_type": "code",
      "execution_count": 8,
      "metadata": {
        "colab": {
          "base_uri": "https://localhost:8080/"
        },
        "id": "_naAk0PqYndI",
        "outputId": "915ff336-b20a-42e2-963b-2cc70da15b2a"
      },
      "outputs": [
        {
          "output_type": "stream",
          "name": "stderr",
          "text": [
            "/usr/local/lib/python3.10/dist-packages/transformers/training_args.py:1568: FutureWarning: `evaluation_strategy` is deprecated and will be removed in version 4.46 of 🤗 Transformers. Use `eval_strategy` instead\n",
            "  warnings.warn(\n"
          ]
        }
      ],
      "source": [
        "\n",
        "training_args = Seq2SeqTrainingArguments(\n",
        "    output_dir='./checkpoints',\n",
        "    # evaluation_strategy=\"no\",\n",
        "    # evaluation_strategy=\"epoch\",\n",
        "    evaluation_strategy=\"steps\",\n",
        "    eval_steps=146*5, # cada 5 epochs, teniendo batches de 128\n",
        "    per_device_train_batch_size=128,\n",
        "    per_device_eval_batch_size=128,\n",
        "    learning_rate=2e-4,\n",
        "    num_train_epochs=18,\n",
        "    report_to=[\"none\"], # para no pedir login de 'wandb' y otros\n",
        "    # fp16=True, # acelera el entrenaminento pero lo empeora\n",
        ")\n",
        "\n",
        "trainer = Seq2SeqTrainer(\n",
        "    model=model,\n",
        "    args=training_args,\n",
        "    train_dataset=train_dataset,\n",
        "    eval_dataset=val_dataset\n",
        ")"
      ]
    },
    {
      "cell_type": "code",
      "execution_count": 9,
      "metadata": {
        "colab": {
          "base_uri": "https://localhost:8080/",
          "height": 242
        },
        "id": "9SUgOc5trZCW",
        "outputId": "60c51031-9fc8-4a61-915d-f698a2ece891"
      },
      "outputs": [
        {
          "output_type": "stream",
          "name": "stderr",
          "text": [
            "Passing a tuple of `past_key_values` is deprecated and will be removed in Transformers v4.48.0. You should pass an instance of `EncoderDecoderCache` instead, e.g. `past_key_values=EncoderDecoderCache.from_legacy_cache(past_key_values)`.\n"
          ]
        },
        {
          "output_type": "display_data",
          "data": {
            "text/plain": [
              "<IPython.core.display.HTML object>"
            ],
            "text/html": [
              "\n",
              "    <div>\n",
              "      \n",
              "      <progress value='2232' max='2232' style='width:300px; height:20px; vertical-align: middle;'></progress>\n",
              "      [2232/2232 19:03, Epoch 18/18]\n",
              "    </div>\n",
              "    <table border=\"1\" class=\"dataframe\">\n",
              "  <thead>\n",
              " <tr style=\"text-align: left;\">\n",
              "      <th>Step</th>\n",
              "      <th>Training Loss</th>\n",
              "      <th>Validation Loss</th>\n",
              "    </tr>\n",
              "  </thead>\n",
              "  <tbody>\n",
              "    <tr>\n",
              "      <td>730</td>\n",
              "      <td>2.319400</td>\n",
              "      <td>0.374856</td>\n",
              "    </tr>\n",
              "    <tr>\n",
              "      <td>1460</td>\n",
              "      <td>0.391000</td>\n",
              "      <td>0.363603</td>\n",
              "    </tr>\n",
              "    <tr>\n",
              "      <td>2190</td>\n",
              "      <td>0.364700</td>\n",
              "      <td>0.361322</td>\n",
              "    </tr>\n",
              "  </tbody>\n",
              "</table><p>"
            ]
          },
          "metadata": {}
        },
        {
          "output_type": "execute_result",
          "data": {
            "text/plain": [
              "TrainOutput(global_step=2232, training_loss=0.8099956751724298, metrics={'train_runtime': 1145.8292, 'train_samples_per_second': 248.126, 'train_steps_per_second': 1.948, 'total_flos': 4851513440317440.0, 'train_loss': 0.8099956751724298, 'epoch': 18.0})"
            ]
          },
          "metadata": {},
          "execution_count": 9
        }
      ],
      "source": [
        "# epochs = 1\n",
        "\n",
        "# for _ in range(epochs):\n",
        "#     # trainer.evaluate()\n",
        "trainer.train()"
      ]
    },
    {
      "cell_type": "code",
      "source": [
        "trainer.predict(test_dataset=test_dataset).metrics\n"
      ],
      "metadata": {
        "colab": {
          "base_uri": "https://localhost:8080/",
          "height": 86
        },
        "id": "S8Rt1Lw50FOg",
        "outputId": "12264c77-e3e2-44dc-82ba-ba29af07bb7a"
      },
      "execution_count": 15,
      "outputs": [
        {
          "output_type": "display_data",
          "data": {
            "text/plain": [
              "<IPython.core.display.HTML object>"
            ],
            "text/html": []
          },
          "metadata": {}
        },
        {
          "output_type": "execute_result",
          "data": {
            "text/plain": [
              "{'test_loss': 0.6045551300048828,\n",
              " 'test_runtime': 2.6657,\n",
              " 'test_samples_per_second': 187.196,\n",
              " 'test_steps_per_second': 1.501}"
            ]
          },
          "metadata": {},
          "execution_count": 15
        }
      ]
    },
    {
      "cell_type": "code",
      "execution_count": 11,
      "metadata": {
        "id": "rnZ7rL_hGXue"
      },
      "outputs": [],
      "source": [
        "#guardar\n",
        "model.save_pretrained(\"detox_model\")"
      ]
    },
    {
      "cell_type": "code",
      "execution_count": 14,
      "metadata": {
        "id": "xvcT3akyZLys",
        "colab": {
          "base_uri": "https://localhost:8080/",
          "height": 35
        },
        "outputId": "63ba65fc-2d68-49ea-d85e-7641ca177490"
      },
      "outputs": [
        {
          "output_type": "execute_result",
          "data": {
            "text/plain": [
              "'Who really cares about this?'"
            ],
            "application/vnd.google.colaboratory.intrinsic+json": {
              "type": "string"
            }
          },
          "metadata": {},
          "execution_count": 14
        }
      ],
      "source": [
        "#cargar y probar\n",
        "loaded_model = T5ForConditionalGeneration.from_pretrained(\"detox_model\")\n",
        "loaded_model.to(device)\n",
        "\n",
        "\n",
        "frase=\"who really gives a crap about this ?\"\n",
        "\n",
        "loaded_model.eval()\n",
        "input_ids = tokenizer(frase, return_tensors=\"pt\").input_ids.to(device)\n",
        "outputs = loaded_model.generate(input_ids)\n",
        "\n",
        "tokenizer.decode(outputs[0], skip_special_tokens=True)\n",
        "\n"
      ]
    }
  ],
  "metadata": {
    "accelerator": "GPU",
    "colab": {
      "gpuType": "T4",
      "provenance": []
    },
    "kernelspec": {
      "display_name": "Python 3 (ipykernel)",
      "language": "python",
      "name": "python3"
    },
    "language_info": {
      "codemirror_mode": {
        "name": "ipython",
        "version": 3
      },
      "file_extension": ".py",
      "mimetype": "text/x-python",
      "name": "python",
      "nbconvert_exporter": "python",
      "pygments_lexer": "ipython3",
      "version": "3.10.14"
    }
  },
  "nbformat": 4,
  "nbformat_minor": 0
}