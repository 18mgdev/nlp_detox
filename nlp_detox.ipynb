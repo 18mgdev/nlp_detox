{
 "cells": [
  {
   "cell_type": "code",
   "execution_count": 11,
   "metadata": {},
   "outputs": [],
   "source": [
    "import pandas as pd\n",
    "\n",
    "splits = {'en': 'data/en-00000-of-00001.parquet', 'ru': 'data/ru-00000-of-00001.parquet', 'uk': 'data/uk-00000-of-00001.parquet', 'de': 'data/de-00000-of-00001.parquet', 'es': 'data/es-00000-of-00001.parquet', 'am': 'data/am-00000-of-00001.parquet', 'zh': 'data/zh-00000-of-00001.parquet', 'ar': 'data/ar-00000-of-00001.parquet', 'hi': 'data/hi-00000-of-00001.parquet'}\n",
    "df_en = pd.read_parquet(\"hf://datasets/textdetox/multilingual_paradetox/\" + splits[\"en\"])\n",
    "df_uk = pd.read_parquet(\"hf://datasets/textdetox/multilingual_paradetox/\" + splits[\"uk\"])\n",
    "df_ru = pd.read_parquet(\"hf://datasets/textdetox/multilingual_paradetox/\" + splits[\"ru\"])\n",
    "df_de = pd.read_parquet(\"hf://datasets/textdetox/multilingual_paradetox/\" + splits[\"de\"])\n",
    "df_es = pd.read_parquet(\"hf://datasets/textdetox/multilingual_paradetox/\" + splits[\"es\"])\n",
    "df_am = pd.read_parquet(\"hf://datasets/textdetox/multilingual_paradetox/\" + splits[\"am\"])\n",
    "df_zh = pd.read_parquet(\"hf://datasets/textdetox/multilingual_paradetox/\" + splits[\"zh\"])\n",
    "df_ar = pd.read_parquet(\"hf://datasets/textdetox/multilingual_paradetox/\" + splits[\"ar\"])\n",
    "df_hi = pd.read_parquet(\"hf://datasets/textdetox/multilingual_paradetox/\" + splits[\"hi\"])\n"
   ]
  },
  {
   "cell_type": "code",
   "execution_count": 12,
   "metadata": {},
   "outputs": [],
   "source": [
    "df_total = pd.concat([df_en, df_uk, df_ru, df_de, df_es, df_am, df_zh, df_ar, df_hi])"
   ]
  },
  {
   "cell_type": "code",
   "execution_count": 13,
   "metadata": {},
   "outputs": [
    {
     "data": {
      "text/html": [
       "<div>\n",
       "<style scoped>\n",
       "    .dataframe tbody tr th:only-of-type {\n",
       "        vertical-align: middle;\n",
       "    }\n",
       "\n",
       "    .dataframe tbody tr th {\n",
       "        vertical-align: top;\n",
       "    }\n",
       "\n",
       "    .dataframe thead th {\n",
       "        text-align: right;\n",
       "    }\n",
       "</style>\n",
       "<table border=\"1\" class=\"dataframe\">\n",
       "  <thead>\n",
       "    <tr style=\"text-align: right;\">\n",
       "      <th></th>\n",
       "      <th>toxic_sentence</th>\n",
       "      <th>neutral_sentence</th>\n",
       "    </tr>\n",
       "  </thead>\n",
       "  <tbody>\n",
       "    <tr>\n",
       "      <th>211</th>\n",
       "      <td>fuck this scumbag piece of shit and all his po...</td>\n",
       "      <td>I disagree with him and his political cohorts.</td>\n",
       "    </tr>\n",
       "    <tr>\n",
       "      <th>368</th>\n",
       "      <td>أحقر جريدة شفتها بهذا الوجود</td>\n",
       "      <td>أسوأ جريدة شفتها بهذا الوجود</td>\n",
       "    </tr>\n",
       "    <tr>\n",
       "      <th>359</th>\n",
       "      <td>भोसडिका अत्याचार केवल लाचार औरतों के लिए है?</td>\n",
       "      <td>अत्याचार केवल लाचार औरतों के लिए है?</td>\n",
       "    </tr>\n",
       "    <tr>\n",
       "      <th>163</th>\n",
       "      <td>Іноді ой як хочеться повиривати патли всім цих...</td>\n",
       "      <td>Іноді ой як хочеться повиривати волосся всім ц...</td>\n",
       "    </tr>\n",
       "    <tr>\n",
       "      <th>154</th>\n",
       "      <td>लण्ड, सच्चे पत्रकार  बनने की कोशिश कर वर्ना अप...</td>\n",
       "      <td>सच्चे पत्रकार  बनने की कोशिश कर वर्ना अपने आपस...</td>\n",
       "    </tr>\n",
       "    <tr>\n",
       "      <th>7</th>\n",
       "      <td>Die Hetzer der ÖR Medien haben wieder Hochkonj...</td>\n",
       "      <td>Die Kritiker der ÖR Medien haben wieder Hochko...</td>\n",
       "    </tr>\n",
       "    <tr>\n",
       "      <th>392</th>\n",
       "      <td>' відчуваю себе говнарем, бо знаю цю пісню нап...</td>\n",
       "      <td>'відчуваю себе дивно, бо знаю цю пісню напам''...</td>\n",
       "    </tr>\n",
       "    <tr>\n",
       "      <th>110</th>\n",
       "      <td>Можу допомогти, все рівно хуйї штурхаю</td>\n",
       "      <td>Можу допомогти, все рівно нічим не займаюсь</td>\n",
       "    </tr>\n",
       "    <tr>\n",
       "      <th>124</th>\n",
       "      <td>Du bist einfach nur noch lächerlich . #Bundestag</td>\n",
       "      <td>Du bist einfach nur noch fragwürdig . #Bundestag</td>\n",
       "    </tr>\n",
       "    <tr>\n",
       "      <th>0</th>\n",
       "      <td>then all of a sudden i see her , shes now got ...</td>\n",
       "      <td>All of a sudden i see her, she is all grown up.</td>\n",
       "    </tr>\n",
       "  </tbody>\n",
       "</table>\n",
       "</div>"
      ],
      "text/plain": [
       "                                        toxic_sentence  \\\n",
       "211  fuck this scumbag piece of shit and all his po...   \n",
       "368                       أحقر جريدة شفتها بهذا الوجود   \n",
       "359       भोसडिका अत्याचार केवल लाचार औरतों के लिए है?   \n",
       "163  Іноді ой як хочеться повиривати патли всім цих...   \n",
       "154  लण्ड, सच्चे पत्रकार  बनने की कोशिश कर वर्ना अप...   \n",
       "7    Die Hetzer der ÖR Medien haben wieder Hochkonj...   \n",
       "392  ' відчуваю себе говнарем, бо знаю цю пісню нап...   \n",
       "110             Можу допомогти, все рівно хуйї штурхаю   \n",
       "124   Du bist einfach nur noch lächerlich . #Bundestag   \n",
       "0    then all of a sudden i see her , shes now got ...   \n",
       "\n",
       "                                      neutral_sentence  \n",
       "211     I disagree with him and his political cohorts.  \n",
       "368                       أسوأ جريدة شفتها بهذا الوجود  \n",
       "359               अत्याचार केवल लाचार औरतों के लिए है?  \n",
       "163  Іноді ой як хочеться повиривати волосся всім ц...  \n",
       "154  सच्चे पत्रकार  बनने की कोशिश कर वर्ना अपने आपस...  \n",
       "7    Die Kritiker der ÖR Medien haben wieder Hochko...  \n",
       "392  'відчуваю себе дивно, бо знаю цю пісню напам''...  \n",
       "110        Можу допомогти, все рівно нічим не займаюсь  \n",
       "124   Du bist einfach nur noch fragwürdig . #Bundestag  \n",
       "0      All of a sudden i see her, she is all grown up.  "
      ]
     },
     "execution_count": 13,
     "metadata": {},
     "output_type": "execute_result"
    }
   ],
   "source": [
    "df_total.sample(10)"
   ]
  }
 ],
 "metadata": {
  "kernelspec": {
   "display_name": ".venv",
   "language": "python",
   "name": "python3"
  },
  "language_info": {
   "codemirror_mode": {
    "name": "ipython",
    "version": 3
   },
   "file_extension": ".py",
   "mimetype": "text/x-python",
   "name": "python",
   "nbconvert_exporter": "python",
   "pygments_lexer": "ipython3",
   "version": "3.10.11"
  }
 },
 "nbformat": 4,
 "nbformat_minor": 2
}
